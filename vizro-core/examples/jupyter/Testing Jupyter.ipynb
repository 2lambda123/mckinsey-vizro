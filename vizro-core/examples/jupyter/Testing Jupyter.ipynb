{
 "cells": [
  {
   "cell_type": "code",
   "execution_count": 1,
   "metadata": {},
   "outputs": [],
   "source": [
    "import pandas as pd\n",
    "import os\n",
    "\n",
    "import vizro.models as vm\n",
    "import vizro.plotly.express as px\n",
    "from vizro import Vizro\n",
    "from vizro.actions import export_data, filter_interaction"
   ]
  },
  {
   "cell_type": "code",
   "execution_count": 7,
   "metadata": {},
   "outputs": [],
   "source": [
    "from vizro.managers import model_manager\n",
    "df_gapminder = px.data.gapminder()"
   ]
  },
  {
   "cell_type": "code",
   "execution_count": 8,
   "metadata": {},
   "outputs": [],
   "source": [
    "model_manager._reset()"
   ]
  },
  {
   "cell_type": "code",
   "execution_count": 9,
   "metadata": {},
   "outputs": [
    {
     "data": {
      "text/plain": [
       "{'_ModelManager__models': {}, '_frozen_state': False}"
      ]
     },
     "execution_count": 9,
     "metadata": {},
     "output_type": "execute_result"
    }
   ],
   "source": [
    "model_manager.__dict__"
   ]
  },
  {
   "cell_type": "code",
   "execution_count": 10,
   "metadata": {},
   "outputs": [],
   "source": [
    "graph = vm.Graph(\n",
    "                id=\"variable_map\",\n",
    "                figure=px.choropleth(\n",
    "                    df_gapminder,\n",
    "                    locations=\"iso_alpha\",\n",
    "                    color=\"lifeExp\",\n",
    "                ))"
   ]
  },
  {
   "cell_type": "code",
   "execution_count": 11,
   "metadata": {},
   "outputs": [
    {
     "data": {
      "text/plain": [
       "{'_ModelManager__models': {'variable_map': Graph(id='variable_map', type='graph', figure=<vizro.models.types.CapturedCallable object at 0x7feee1615280>, actions=[])},\n",
       " '_frozen_state': False}"
      ]
     },
     "execution_count": 11,
     "metadata": {},
     "output_type": "execute_result"
    }
   ],
   "source": [
    "model_manager.__dict__"
   ]
  },
  {
   "cell_type": "code",
   "execution_count": 12,
   "metadata": {},
   "outputs": [],
   "source": [
    "param = vm.Parameter(\n",
    "    # id=\"parameter\",\n",
    "    targets=[\"variable_map.color\",],\n",
    "    selector=vm.RadioItems(id=\"RadioItem\",options=[\"lifeExp\", \"pop\", \"gdpPercap\"], title=\"Select variable\"),\n",
    "            )"
   ]
  },
  {
   "cell_type": "code",
   "execution_count": 13,
   "metadata": {},
   "outputs": [
    {
     "data": {
      "text/plain": [
       "{'_ModelManager__models': {'variable_map': Graph(id='variable_map', type='graph', figure=<vizro.models.types.CapturedCallable object at 0x7feee1615280>, actions=[]),\n",
       "  'RadioItem': RadioItems(id='RadioItem', type='radio_items', options=['lifeExp', 'pop', 'gdpPercap'], value=None, title='Select variable', actions=[]),\n",
       "  'e3e70682-c209-4cac-629f-6fbed82c07cd': Parameter(id='e3e70682-c209-4cac-629f-6fbed82c07cd', type='parameter', targets=['variable_map.color'], selector=RadioItems(id='RadioItem', type='radio_items', options=['lifeExp', 'pop', 'gdpPercap'], value=None, title='Select variable', actions=[]))},\n",
       " '_frozen_state': False}"
      ]
     },
     "execution_count": 13,
     "metadata": {},
     "output_type": "execute_result"
    }
   ],
   "source": [
    "model_manager.__dict__"
   ]
  },
  {
   "cell_type": "code",
   "execution_count": 14,
   "metadata": {},
   "outputs": [],
   "source": [
    "page = vm.Page(\n",
    "    title = \"Test\",\n",
    "    components=[graph],\n",
    "    controls = [param]\n",
    ")"
   ]
  },
  {
   "cell_type": "code",
   "execution_count": 15,
   "metadata": {},
   "outputs": [
    {
     "data": {
      "text/plain": [
       "{'_ModelManager__models': {'variable_map': Graph(id='variable_map', type='graph', figure=<vizro.models.types.CapturedCallable object at 0x7feee1615280>, actions=[]),\n",
       "  'RadioItem': RadioItems(id='RadioItem', type='radio_items', options=['lifeExp', 'pop', 'gdpPercap'], value=None, title='Select variable', actions=[]),\n",
       "  'e3e70682-c209-4cac-629f-6fbed82c07cd': Parameter(id='e3e70682-c209-4cac-629f-6fbed82c07cd', type='parameter', targets=['variable_map.color'], selector=RadioItems(id='RadioItem', type='radio_items', options=['lifeExp', 'pop', 'gdpPercap'], value=None, title='Select variable', actions=[])),\n",
       "  'f728b4fa-4248-5e3a-0a5d-2f346baa9455': Layout(id='f728b4fa-4248-5e3a-0a5d-2f346baa9455', grid=[[0]], row_gap='12px', col_gap='12px', row_min_height='0px', col_min_width='0px'),\n",
       "  'Test': Page(id='Test', components=[Graph(id='variable_map', type='graph', figure=<vizro.models.types.CapturedCallable object at 0x7feee1615280>, actions=[])], title='Test', layout=Layout(id='f728b4fa-4248-5e3a-0a5d-2f346baa9455', grid=[[0]], row_gap='12px', col_gap='12px', row_min_height='0px', col_min_width='0px'), controls=[Parameter(id='e3e70682-c209-4cac-629f-6fbed82c07cd', type='parameter', targets=['variable_map.color'], selector=RadioItems(id='RadioItem', type='radio_items', options=['lifeExp', 'pop', 'gdpPercap'], value=None, title='Select variable', actions=[]))], path='/test', actions=[])},\n",
       " '_frozen_state': False}"
      ]
     },
     "execution_count": 15,
     "metadata": {},
     "output_type": "execute_result"
    }
   ],
   "source": [
    "model_manager.__dict__"
   ]
  },
  {
   "cell_type": "code",
   "execution_count": 16,
   "metadata": {},
   "outputs": [],
   "source": [
    "dashboard = vm.Dashboard(\n",
    "    pages=[page]\n",
    ")"
   ]
  },
  {
   "cell_type": "code",
   "execution_count": 17,
   "metadata": {},
   "outputs": [
    {
     "data": {
      "text/plain": [
       "{'_ModelManager__models': {'variable_map': Graph(id='variable_map', type='graph', figure=<vizro.models.types.CapturedCallable object at 0x7feee1615280>, actions=[]),\n",
       "  'RadioItem': RadioItems(id='RadioItem', type='radio_items', options=['lifeExp', 'pop', 'gdpPercap'], value=None, title='Select variable', actions=[]),\n",
       "  'e3e70682-c209-4cac-629f-6fbed82c07cd': Parameter(id='e3e70682-c209-4cac-629f-6fbed82c07cd', type='parameter', targets=['variable_map.color'], selector=RadioItems(id='RadioItem', type='radio_items', options=['lifeExp', 'pop', 'gdpPercap'], value=None, title='Select variable', actions=[])),\n",
       "  'f728b4fa-4248-5e3a-0a5d-2f346baa9455': Layout(id='f728b4fa-4248-5e3a-0a5d-2f346baa9455', grid=[[0]], row_gap='12px', col_gap='12px', row_min_height='0px', col_min_width='0px'),\n",
       "  'Test': Page(id='Test', components=[Graph(id='variable_map', type='graph', figure=<vizro.models.types.CapturedCallable object at 0x7feee1615280>, actions=[])], title='Test', layout=Layout(id='f728b4fa-4248-5e3a-0a5d-2f346baa9455', grid=[[0]], row_gap='12px', col_gap='12px', row_min_height='0px', col_min_width='0px'), controls=[Parameter(id='e3e70682-c209-4cac-629f-6fbed82c07cd', type='parameter', targets=['variable_map.color'], selector=RadioItems(id='RadioItem', type='radio_items', options=['lifeExp', 'pop', 'gdpPercap'], value=None, title='Select variable', actions=[]))], path='/test', actions=[]),\n",
       "  'eb1167b3-67a9-c378-7c65-c1e582e2e662': Dashboard(id='eb1167b3-67a9-c378-7c65-c1e582e2e662', pages=[Page(id='Test', components=[Graph(id='variable_map', type='graph', figure=<vizro.models.types.CapturedCallable object at 0x7feee1615280>, actions=[])], title='Test', layout=Layout(id='f728b4fa-4248-5e3a-0a5d-2f346baa9455', grid=[[0]], row_gap='12px', col_gap='12px', row_min_height='0px', col_min_width='0px'), controls=[Parameter(id='e3e70682-c209-4cac-629f-6fbed82c07cd', type='parameter', targets=['variable_map.color'], selector=RadioItems(id='RadioItem', type='radio_items', options=['lifeExp', 'pop', 'gdpPercap'], value=None, title='Select variable', actions=[]))], path='/test', actions=[])], theme='vizro_dark', navigation=None, title=None)},\n",
       " '_frozen_state': False}"
      ]
     },
     "execution_count": 17,
     "metadata": {},
     "output_type": "execute_result"
    }
   ],
   "source": [
    "model_manager.__dict__"
   ]
  },
  {
   "cell_type": "code",
   "execution_count": 13,
   "metadata": {},
   "outputs": [],
   "source": [
    "app = Vizro().build(dashboard)"
   ]
  },
  {
   "cell_type": "code",
   "execution_count": 14,
   "metadata": {},
   "outputs": [
    {
     "data": {
      "text/plain": [
       "{'_ModelManager__models': {'variable_map': Graph(id='variable_map', type='graph', figure=<vizro.models.types.CapturedCallable object at 0x7ff6c82379d0>, actions=[]),\n",
       "  'RadioItem': RadioItems(id='RadioItem', type='radio_items', options=['lifeExp', 'pop', 'gdpPercap'], value=None, title='Select variable', actions=[ActionsChain(id='f7c1bd87-4da5-e709-d471-3d60c8a70639', trigger=Trigger(component_id='RadioItem', component_property='value'), actions=[Action(id='parameter_action_e3e70682-c209-4cac-629f-6fbed82c07cd', function=<vizro.models.types.CapturedCallable object at 0x7ff728a29550>, inputs=[], outputs=[])])]),\n",
       "  'e3e70682-c209-4cac-629f-6fbed82c07cd': Parameter(id='e3e70682-c209-4cac-629f-6fbed82c07cd', type='parameter', targets=['variable_map.color'], selector=RadioItems(id='RadioItem', type='radio_items', options=['lifeExp', 'pop', 'gdpPercap'], value=None, title='Select variable', actions=[ActionsChain(id='f7c1bd87-4da5-e709-d471-3d60c8a70639', trigger=Trigger(component_id='RadioItem', component_property='value'), actions=[Action(id='parameter_action_e3e70682-c209-4cac-629f-6fbed82c07cd', function=<vizro.models.types.CapturedCallable object at 0x7ff728a29550>, inputs=[], outputs=[])])])),\n",
       "  'f728b4fa-4248-5e3a-0a5d-2f346baa9455': Layout(id='f728b4fa-4248-5e3a-0a5d-2f346baa9455', grid=[[0]], row_gap='12px', col_gap='12px', row_min_height='0px', col_min_width='0px'),\n",
       "  'Test': Page(id='Test', components=[Graph(id='variable_map', type='graph', figure=<vizro.models.types.CapturedCallable object at 0x7ff6c82379d0>, actions=[])], title='Test', layout=Layout(id='f728b4fa-4248-5e3a-0a5d-2f346baa9455', grid=[[0]], row_gap='12px', col_gap='12px', row_min_height='0px', col_min_width='0px'), controls=[Parameter(id='e3e70682-c209-4cac-629f-6fbed82c07cd', type='parameter', targets=['variable_map.color'], selector=RadioItems(id='RadioItem', type='radio_items', options=['lifeExp', 'pop', 'gdpPercap'], value=None, title='Select variable', actions=[ActionsChain(id='f7c1bd87-4da5-e709-d471-3d60c8a70639', trigger=Trigger(component_id='RadioItem', component_property='value'), actions=[Action(id='parameter_action_e3e70682-c209-4cac-629f-6fbed82c07cd', function=<vizro.models.types.CapturedCallable object at 0x7ff728a29550>, inputs=[], outputs=[])])]))], path='/test', actions=[ActionsChain(id='on_page_load_action_Test', trigger=Trigger(component_id='on_page_load_action_trigger_Test', component_property='data'), actions=[Action(id='on_page_load_action_action_Test', function=<vizro.models.types.CapturedCallable object at 0x7ff728a296d0>, inputs=[], outputs=[])])]),\n",
       "  'eb1167b3-67a9-c378-7c65-c1e582e2e662': Dashboard(id='eb1167b3-67a9-c378-7c65-c1e582e2e662', pages=[Page(id='Test', components=[Graph(id='variable_map', type='graph', figure=<vizro.models.types.CapturedCallable object at 0x7ff6c82379d0>, actions=[])], title='Test', layout=Layout(id='f728b4fa-4248-5e3a-0a5d-2f346baa9455', grid=[[0]], row_gap='12px', col_gap='12px', row_min_height='0px', col_min_width='0px'), controls=[Parameter(id='e3e70682-c209-4cac-629f-6fbed82c07cd', type='parameter', targets=['variable_map.color'], selector=RadioItems(id='RadioItem', type='radio_items', options=['lifeExp', 'pop', 'gdpPercap'], value=None, title='Select variable', actions=[ActionsChain(id='f7c1bd87-4da5-e709-d471-3d60c8a70639', trigger=Trigger(component_id='RadioItem', component_property='value'), actions=[Action(id='parameter_action_e3e70682-c209-4cac-629f-6fbed82c07cd', function=<vizro.models.types.CapturedCallable object at 0x7ff728a29550>, inputs=[], outputs=[])])]))], path='/test', actions=[ActionsChain(id='on_page_load_action_Test', trigger=Trigger(component_id='on_page_load_action_trigger_Test', component_property='data'), actions=[Action(id='on_page_load_action_action_Test', function=<vizro.models.types.CapturedCallable object at 0x7ff728a296d0>, inputs=[], outputs=[])])])], theme='vizro_dark', navigation=None, title=None),\n",
       "  'on_page_load_action_action_Test': Action(id='on_page_load_action_action_Test', function=<vizro.models.types.CapturedCallable object at 0x7ff728a296d0>, inputs=[], outputs=[]),\n",
       "  'on_page_load_action_Test': ActionsChain(id='on_page_load_action_Test', trigger=Trigger(component_id='on_page_load_action_trigger_Test', component_property='data'), actions=[Action(id='on_page_load_action_action_Test', function=<vizro.models.types.CapturedCallable object at 0x7ff728a296d0>, inputs=[], outputs=[])]),\n",
       "  'parameter_action_e3e70682-c209-4cac-629f-6fbed82c07cd': Action(id='parameter_action_e3e70682-c209-4cac-629f-6fbed82c07cd', function=<vizro.models.types.CapturedCallable object at 0x7ff728a29550>, inputs=[], outputs=[]),\n",
       "  'f7c1bd87-4da5-e709-d471-3d60c8a70639': ActionsChain(id='f7c1bd87-4da5-e709-d471-3d60c8a70639', trigger=Trigger(component_id='RadioItem', component_property='value'), actions=[Action(id='parameter_action_e3e70682-c209-4cac-629f-6fbed82c07cd', function=<vizro.models.types.CapturedCallable object at 0x7ff728a29550>, inputs=[], outputs=[])]),\n",
       "  'e443df78-9558-867f-5ba9-1faf7a024204': Accordion(id='e443df78-9558-867f-5ba9-1faf7a024204', pages=None)},\n",
       " '_frozen_state': False}"
      ]
     },
     "execution_count": 14,
     "metadata": {},
     "output_type": "execute_result"
    }
   ],
   "source": [
    "model_manager.__dict__"
   ]
  },
  {
   "cell_type": "markdown",
   "metadata": {},
   "source": [
    "Solution 1:\n",
    "- keep as is, improve warning, make _reset_ public\n",
    "- del model_manager...\n",
    "- add warning in items with type parameter\n",
    "\n",
    "Solution 2:\n",
    "- get rid of items with type or rather do via the dashboard hierarchical route\n",
    "\n",
    "Solution 3:\n",
    "- context manager approach\n",
    "\n",
    "Solution 4:\n",
    "- hierarchical solution\n",
    "\n",
    "Solution 5:\n",
    "- flag to override is allowed??\n",
    "\n",
    "Solution for garbage accumulation (items with type):\n",
    "- either get rid\n",
    "- or improve error message\n"
   ]
  },
  {
   "cell_type": "markdown",
   "metadata": {},
   "source": []
  },
  {
   "cell_type": "code",
   "execution_count": 14,
   "metadata": {},
   "outputs": [
    {
     "name": "stderr",
     "output_type": "stream",
     "text": [
      "/Users/Maximilian_Schulz/Library/CloudStorage/OneDrive-McKinsey&Company/Documents/Python/Vizro/vizro/vizro-core/src/vizro/models/_base.py:36: RuntimeWarning:\n",
      "\n",
      "ModelManager.__setitem__ modifies global state. Doing this after the dashboard has been built will not work reliably if you run the dashboard with multiple processes.\n",
      "\n"
     ]
    },
    {
     "data": {
      "text/html": [
       "\n",
       "        <iframe\n",
       "            width=\"100%\"\n",
       "            height=\"650\"\n",
       "            src=\"http://127.0.0.1:8051/\"\n",
       "            frameborder=\"0\"\n",
       "            allowfullscreen\n",
       "            \n",
       "        ></iframe>\n",
       "        "
      ],
      "text/plain": [
       "<IPython.lib.display.IFrame at 0x7f87107c6430>"
      ]
     },
     "metadata": {},
     "output_type": "display_data"
    }
   ],
   "source": [
    "app.run(port=8051)"
   ]
  },
  {
   "cell_type": "code",
   "execution_count": 15,
   "metadata": {},
   "outputs": [
    {
     "data": {
      "text/plain": [
       "{'_ModelManager__models': {'variable_map': Graph(id='variable_map', type='graph', figure=<vizro.models.types.CapturedCallable object at 0x7f87106b68b0>, actions=[]),\n",
       "  'RadioItem': RadioItems(id='RadioItem', type='radio_items', options=['lifeExp', 'pop', 'gdpPercap'], value=None, title='Select variable', actions=[ActionsChain(id='f7c1bd87-4da5-e709-d471-3d60c8a70639', trigger=Trigger(component_id='RadioItem', component_property='value'), actions=[Action(id='parameter_action_e3e70682-c209-4cac-629f-6fbed82c07cd', function=<vizro.models.types.CapturedCallable object at 0x7f869031a580>, inputs=[], outputs=[])])]),\n",
       "  'e3e70682-c209-4cac-629f-6fbed82c07cd': Parameter(id='e3e70682-c209-4cac-629f-6fbed82c07cd', type='parameter', targets=['variable_map.color'], selector=RadioItems(id='RadioItem', type='radio_items', options=['lifeExp', 'pop', 'gdpPercap'], value=None, title='Select variable', actions=[ActionsChain(id='f7c1bd87-4da5-e709-d471-3d60c8a70639', trigger=Trigger(component_id='RadioItem', component_property='value'), actions=[Action(id='parameter_action_e3e70682-c209-4cac-629f-6fbed82c07cd', function=<vizro.models.types.CapturedCallable object at 0x7f869031a580>, inputs=[], outputs=[])])])),\n",
       "  'f728b4fa-4248-5e3a-0a5d-2f346baa9455': Layout(id='f728b4fa-4248-5e3a-0a5d-2f346baa9455', grid=[[0]], row_gap='12px', col_gap='12px', row_min_height='0px', col_min_width='0px'),\n",
       "  'Test': Page(id='Test', components=[Graph(id='variable_map', type='graph', figure=<vizro.models.types.CapturedCallable object at 0x7f87106b68b0>, actions=[])], title='Test', layout=Layout(id='f728b4fa-4248-5e3a-0a5d-2f346baa9455', grid=[[0]], row_gap='12px', col_gap='12px', row_min_height='0px', col_min_width='0px'), controls=[Parameter(id='e3e70682-c209-4cac-629f-6fbed82c07cd', type='parameter', targets=['variable_map.color'], selector=RadioItems(id='RadioItem', type='radio_items', options=['lifeExp', 'pop', 'gdpPercap'], value=None, title='Select variable', actions=[ActionsChain(id='f7c1bd87-4da5-e709-d471-3d60c8a70639', trigger=Trigger(component_id='RadioItem', component_property='value'), actions=[Action(id='parameter_action_e3e70682-c209-4cac-629f-6fbed82c07cd', function=<vizro.models.types.CapturedCallable object at 0x7f869031a580>, inputs=[], outputs=[])])]))], path='/test', actions=[ActionsChain(id='on_page_load_action_Test', trigger=Trigger(component_id='on_page_load_action_trigger_Test', component_property='data'), actions=[Action(id='on_page_load_action_action_Test', function=<vizro.models.types.CapturedCallable object at 0x7f869031a700>, inputs=[], outputs=[])])]),\n",
       "  'eb1167b3-67a9-c378-7c65-c1e582e2e662': Dashboard(id='eb1167b3-67a9-c378-7c65-c1e582e2e662', pages=[Page(id='Test', components=[Graph(id='variable_map', type='graph', figure=<vizro.models.types.CapturedCallable object at 0x7f87106b68b0>, actions=[])], title='Test', layout=Layout(id='f728b4fa-4248-5e3a-0a5d-2f346baa9455', grid=[[0]], row_gap='12px', col_gap='12px', row_min_height='0px', col_min_width='0px'), controls=[Parameter(id='e3e70682-c209-4cac-629f-6fbed82c07cd', type='parameter', targets=['variable_map.color'], selector=RadioItems(id='RadioItem', type='radio_items', options=['lifeExp', 'pop', 'gdpPercap'], value=None, title='Select variable', actions=[ActionsChain(id='f7c1bd87-4da5-e709-d471-3d60c8a70639', trigger=Trigger(component_id='RadioItem', component_property='value'), actions=[Action(id='parameter_action_e3e70682-c209-4cac-629f-6fbed82c07cd', function=<vizro.models.types.CapturedCallable object at 0x7f869031a580>, inputs=[], outputs=[])])]))], path='/test', actions=[ActionsChain(id='on_page_load_action_Test', trigger=Trigger(component_id='on_page_load_action_trigger_Test', component_property='data'), actions=[Action(id='on_page_load_action_action_Test', function=<vizro.models.types.CapturedCallable object at 0x7f869031a700>, inputs=[], outputs=[])])])], theme='vizro_dark', navigation=None, title=None),\n",
       "  'on_page_load_action_action_Test': Action(id='on_page_load_action_action_Test', function=<vizro.models.types.CapturedCallable object at 0x7f869031a700>, inputs=[], outputs=[]),\n",
       "  'on_page_load_action_Test': ActionsChain(id='on_page_load_action_Test', trigger=Trigger(component_id='on_page_load_action_trigger_Test', component_property='data'), actions=[Action(id='on_page_load_action_action_Test', function=<vizro.models.types.CapturedCallable object at 0x7f869031a700>, inputs=[], outputs=[])]),\n",
       "  'parameter_action_e3e70682-c209-4cac-629f-6fbed82c07cd': Action(id='parameter_action_e3e70682-c209-4cac-629f-6fbed82c07cd', function=<vizro.models.types.CapturedCallable object at 0x7f869031a580>, inputs=[], outputs=[]),\n",
       "  'f7c1bd87-4da5-e709-d471-3d60c8a70639': ActionsChain(id='f7c1bd87-4da5-e709-d471-3d60c8a70639', trigger=Trigger(component_id='RadioItem', component_property='value'), actions=[Action(id='parameter_action_e3e70682-c209-4cac-629f-6fbed82c07cd', function=<vizro.models.types.CapturedCallable object at 0x7f869031a580>, inputs=[], outputs=[])]),\n",
       "  'e443df78-9558-867f-5ba9-1faf7a024204': Accordion(id='e443df78-9558-867f-5ba9-1faf7a024204', pages=None),\n",
       "  '23a7711a-8133-2876-37eb-dcd9e87a1613': Accordion(id='23a7711a-8133-2876-37eb-dcd9e87a1613', pages=None),\n",
       "  '1846d424-c17c-6279-23c6-612f48268673': Accordion(id='1846d424-c17c-6279-23c6-612f48268673', pages=None)},\n",
       " '_frozen_state': True}"
      ]
     },
     "execution_count": 15,
     "metadata": {},
     "output_type": "execute_result"
    }
   ],
   "source": [
    "model_manager.__dict__"
   ]
  },
  {
   "cell_type": "markdown",
   "metadata": {},
   "source": [
    "## Notes\n",
    "\n",
    "- why does the run a actually modify state, nothing except self.dash.run should be executed (and of course freezing the managers...)\n",
    "- before the dashboard is built, it seems that there is no problem overwriting IDs OR (when having randomly generated ID's) adding new models to the managers\n",
    "- especially the second would eventually require us to have some form of garbage collection, although this seems not mandatory atm\n",
    "- HOWEVER: the re-building and adding to MM causes models (I think) to loose reference, and thus causing errors (see other app.ipynb)"
   ]
  }
 ],
 "metadata": {
  "kernelspec": {
   "display_name": "vizro",
   "language": "python",
   "name": "python3"
  },
  "language_info": {
   "codemirror_mode": {
    "name": "ipython",
    "version": 3
   },
   "file_extension": ".py",
   "mimetype": "text/x-python",
   "name": "python",
   "nbconvert_exporter": "python",
   "pygments_lexer": "ipython3",
   "version": "3.9.12"
  }
 },
 "nbformat": 4,
 "nbformat_minor": 4
}
