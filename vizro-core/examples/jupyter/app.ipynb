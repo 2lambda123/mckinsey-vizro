{
 "cells": [
  {
   "cell_type": "code",
   "execution_count": 1,
   "metadata": {},
   "outputs": [],
   "source": [
    "import dash"
   ]
  },
  {
   "cell_type": "code",
   "execution_count": 2,
   "metadata": {},
   "outputs": [],
   "source": [
    "import vizro.plotly.express as px\n",
    "from vizro import Vizro\n",
    "import vizro.models as vm"
   ]
  },
  {
   "cell_type": "code",
   "execution_count": 3,
   "metadata": {},
   "outputs": [
    {
     "name": "stdout",
     "output_type": "stream",
     "text": [
      "Model pre_built My first dashboard\n",
      "Model pre_built hist_chart\n",
      "Model pre_built f7c1bd87-4da5-e709-d471-3d60c8a70639\n",
      "Model pre_built e443df78-9558-867f-5ba9-1faf7a024204\n",
      "Model pre_built eb1167b3-67a9-c378-7c65-c1e582e2e662\n",
      "Model pre_built scatter_chart\n",
      "Model pre_built e3e70682-c209-4cac-629f-6fbed82c07cd\n",
      "Model pre_built f728b4fa-4248-5e3a-0a5d-2f346baa9455\n",
      "Page built: My first dashboard\n"
     ]
    },
    {
     "data": {
      "text/html": [
       "\n",
       "        <iframe\n",
       "            width=\"100%\"\n",
       "            height=\"650\"\n",
       "            src=\"http://127.0.0.1:8050/\"\n",
       "            frameborder=\"0\"\n",
       "            allowfullscreen\n",
       "            \n",
       "        ></iframe>\n",
       "        "
      ],
      "text/plain": [
       "<IPython.lib.display.IFrame at 0x7f82ea66bd30>"
      ]
     },
     "metadata": {},
     "output_type": "display_data"
    }
   ],
   "source": [
    "df = px.data.iris()\n",
    "\n",
    "page = vm.Page(\n",
    "    title=\"My first dashboard\",\n",
    "    components=[\n",
    "        vm.Graph(id=\"scatter_chart\", figure=px.scatter(df, x=\"sepal_length\", y=\"petal_width\", color=\"species\")),\n",
    "        vm.Graph(id=\"hist_chart\", figure=px.histogram(df, x=\"sepal_width\", color=\"species\")),\n",
    "    ],\n",
    "    controls=[\n",
    "        vm.Filter(column=\"species\", selector=vm.Dropdown(value=[\"ALL\"])),\n",
    "    ],\n",
    ")\n",
    "\n",
    "dashboard = vm.Dashboard(pages=[page])\n",
    "\n",
    "foo = Vizro().build(dashboard)\n",
    "foo.run()\n"
   ]
  },
  {
   "cell_type": "code",
   "execution_count": 4,
   "metadata": {},
   "outputs": [],
   "source": [
    "from vizro.managers import data_manager; data_manager._reset()\n",
    "from vizro.managers import model_manager; model_manager._reset()"
   ]
  },
  {
   "cell_type": "code",
   "execution_count": 5,
   "metadata": {},
   "outputs": [
    {
     "data": {
      "text/plain": [
       "OrderedDict([('My first dashboard',\n",
       "              {'module': 'My first dashboard',\n",
       "               'supplied_path': '/',\n",
       "               'path_template': None,\n",
       "               'path': '/',\n",
       "               'supplied_name': 'My first dashboard',\n",
       "               'name': 'My first dashboard',\n",
       "               'supplied_title': None,\n",
       "               'title': 'My first dashboard',\n",
       "               'description': '',\n",
       "               'order': 0,\n",
       "               'supplied_order': 0,\n",
       "               'supplied_layout': <bound method Page.build of Page(id='My first dashboard', components=[Graph(id='scatter_chart', type='graph', figure=<vizro.models.types.CapturedCallable object at 0x7f82d8a660d0>, actions=[]), Graph(id='hist_chart', type='graph', figure=<vizro.models.types.CapturedCallable object at 0x7f82ea49f160>, actions=[])], title='My first dashboard', layout=Layout(id='eb1167b3-67a9-c378-7c65-c1e582e2e662', grid=[[0], [1]], row_gap='12px', col_gap='12px', row_min_height='0px', col_min_width='0px'), controls=[Filter(id='f728b4fa-4248-5e3a-0a5d-2f346baa9455', type='filter', column='species', targets=['scatter_chart', 'hist_chart'], selector=Dropdown(id='e3e70682-c209-4cac-629f-6fbed82c07cd', type='dropdown', options=['setosa', 'versicolor', 'virginica'], value=['ALL'], multi=True, title='Species', actions=[ActionsChain(id='1846d424-c17c-6279-23c6-612f48268673', trigger=Trigger(component_id='e3e70682-c209-4cac-629f-6fbed82c07cd', component_property='value'), actions=[Action(id='filter_action_f728b4fa-4248-5e3a-0a5d-2f346baa9455', function=<vizro.models.types.CapturedCallable object at 0x7f82ea44e700>, inputs=[], outputs=[])])]))], path='/my-first-dashboard', actions=[ActionsChain(id='on_page_load_action_My first dashboard', trigger=Trigger(component_id='on_page_load_action_trigger_My first dashboard', component_property='data'), actions=[Action(id='on_page_load_action_action_My first dashboard', function=<vizro.models.types.CapturedCallable object at 0x7f82ea6c8c10>, inputs=[], outputs=[])])])>,\n",
       "               'supplied_image': None,\n",
       "               'image': None,\n",
       "               'image_url': None,\n",
       "               'redirect_from': None,\n",
       "               'layout': <bound method Page.build of Page(id='My first dashboard', components=[Graph(id='scatter_chart', type='graph', figure=<vizro.models.types.CapturedCallable object at 0x7f82d8a660d0>, actions=[]), Graph(id='hist_chart', type='graph', figure=<vizro.models.types.CapturedCallable object at 0x7f82ea49f160>, actions=[])], title='My first dashboard', layout=Layout(id='eb1167b3-67a9-c378-7c65-c1e582e2e662', grid=[[0], [1]], row_gap='12px', col_gap='12px', row_min_height='0px', col_min_width='0px'), controls=[Filter(id='f728b4fa-4248-5e3a-0a5d-2f346baa9455', type='filter', column='species', targets=['scatter_chart', 'hist_chart'], selector=Dropdown(id='e3e70682-c209-4cac-629f-6fbed82c07cd', type='dropdown', options=['setosa', 'versicolor', 'virginica'], value=['ALL'], multi=True, title='Species', actions=[ActionsChain(id='1846d424-c17c-6279-23c6-612f48268673', trigger=Trigger(component_id='e3e70682-c209-4cac-629f-6fbed82c07cd', component_property='value'), actions=[Action(id='filter_action_f728b4fa-4248-5e3a-0a5d-2f346baa9455', function=<vizro.models.types.CapturedCallable object at 0x7f82ea44e700>, inputs=[], outputs=[])])]))], path='/my-first-dashboard', actions=[ActionsChain(id='on_page_load_action_My first dashboard', trigger=Trigger(component_id='on_page_load_action_trigger_My first dashboard', component_property='data'), actions=[Action(id='on_page_load_action_action_My first dashboard', function=<vizro.models.types.CapturedCallable object at 0x7f82ea6c8c10>, inputs=[], outputs=[])])])>,\n",
       "               'relative_path': '/'}),\n",
       "             ('not_found_404',\n",
       "              {'module': 'not_found_404',\n",
       "               'supplied_path': None,\n",
       "               'path_template': None,\n",
       "               'path': '/not-found-404',\n",
       "               'supplied_name': None,\n",
       "               'name': 'Not found 404',\n",
       "               'supplied_title': None,\n",
       "               'title': 'Not found 404',\n",
       "               'description': '',\n",
       "               'order': None,\n",
       "               'supplied_order': None,\n",
       "               'supplied_layout': Div(children=[Img(src='vizro/images/errors/error_404.svg'), Div(children=[Div(children=[H3(children='This page could not be found.', className='heading-3-600'), P('Make sure the URL you entered is correct.')], className='error_text_container'), Button(children='Take me home', className='button_primary', href='/')], className='error_content_container')], className='page_error_container'),\n",
       "               'supplied_image': None,\n",
       "               'image': None,\n",
       "               'image_url': None,\n",
       "               'redirect_from': None,\n",
       "               'layout': Div(children=[Img(src='vizro/images/errors/error_404.svg'), Div(children=[Div(children=[H3(children='This page could not be found.', className='heading-3-600'), P('Make sure the URL you entered is correct.')], className='error_text_container'), Button(children='Take me home', className='button_primary', href='/')], className='error_content_container')], className='page_error_container'),\n",
       "               'relative_path': '/not-found-404'})])"
      ]
     },
     "execution_count": 5,
     "metadata": {},
     "output_type": "execute_result"
    }
   ],
   "source": [
    "dash.page_registry"
   ]
  },
  {
   "cell_type": "code",
   "execution_count": 6,
   "metadata": {},
   "outputs": [],
   "source": [
    "del dash.page_registry[\"My first dashboard\"]\n",
    "del dash.page_registry[\"not_found_404\"]"
   ]
  },
  {
   "cell_type": "code",
   "execution_count": 7,
   "metadata": {},
   "outputs": [
    {
     "data": {
      "text/plain": [
       "OrderedDict()"
      ]
     },
     "execution_count": 7,
     "metadata": {},
     "output_type": "execute_result"
    }
   ],
   "source": [
    "dash.page_registry"
   ]
  },
  {
   "cell_type": "code",
   "execution_count": 8,
   "metadata": {},
   "outputs": [
    {
     "name": "stdout",
     "output_type": "stream",
     "text": [
      "Model pre_built 5487ce1e-af19-922a-d9b8-a714e61a441c\n",
      "Model pre_built My first dashboard\n",
      "Model pre_built 259f4329-e6f4-590b-9a16-4106cf6a659e\n",
      "Model pre_built hist_chart\n",
      "Model pre_built scatter_chart\n",
      "Model pre_built fcbd04c3-4021-2ef7-cca5-a5a19e4d6e3c\n",
      "Model pre_built b4862b21-fb97-d435-8856-1712e8e5216a\n",
      "Model pre_built 12e0c8b2-bad6-40fb-1948-8dec4f65d4d9\n",
      "Page built: My first dashboard\n"
     ]
    },
    {
     "data": {
      "text/html": [
       "\n",
       "        <iframe\n",
       "            width=\"100%\"\n",
       "            height=\"650\"\n",
       "            src=\"http://127.0.0.1:8051/\"\n",
       "            frameborder=\"0\"\n",
       "            allowfullscreen\n",
       "            \n",
       "        ></iframe>\n",
       "        "
      ],
      "text/plain": [
       "<IPython.lib.display.IFrame at 0x7f82ea699460>"
      ]
     },
     "metadata": {},
     "output_type": "display_data"
    }
   ],
   "source": [
    "df = px.data.iris()\n",
    "\n",
    "page = vm.Page(\n",
    "    title=\"My first dashboard\",\n",
    "    components=[\n",
    "        vm.Graph(id=\"scatter_chart\", figure=px.scatter(df, x=\"sepal_length\", y=\"petal_width\", color=\"species\")),\n",
    "        vm.Graph(id=\"hist_chart\", figure=px.histogram(df, x=\"sepal_width\", color=\"species\")),\n",
    "    ],\n",
    "    controls=[\n",
    "        vm.Filter(column=\"species\", selector=vm.Dropdown(value=[\"ALL\"])),\n",
    "    ],\n",
    ")\n",
    "\n",
    "dashboard = vm.Dashboard(pages=[page])\n",
    "\n",
    "foo2 = Vizro().build(dashboard)\n",
    "foo2.run(port = 8051)\n"
   ]
  },
  {
   "cell_type": "code",
   "execution_count": 9,
   "metadata": {},
   "outputs": [
    {
     "data": {
      "text/plain": [
       "OrderedDict([('My first dashboard',\n",
       "              {'module': 'My first dashboard',\n",
       "               'supplied_path': '/',\n",
       "               'path_template': None,\n",
       "               'path': '/',\n",
       "               'supplied_name': 'My first dashboard',\n",
       "               'name': 'My first dashboard',\n",
       "               'supplied_title': None,\n",
       "               'title': 'My first dashboard',\n",
       "               'description': '',\n",
       "               'order': 0,\n",
       "               'supplied_order': 0,\n",
       "               'supplied_layout': <bound method Page.build of Page(id='My first dashboard', components=[Graph(id='scatter_chart', type='graph', figure=<vizro.models.types.CapturedCallable object at 0x7fe63802e280>, actions=[]), Graph(id='hist_chart', type='graph', figure=<vizro.models.types.CapturedCallable object at 0x7fe63802e1c0>, actions=[])], title='My first dashboard', layout=Layout(id='259f4329-e6f4-590b-9a16-4106cf6a659e', grid=[[0], [1]], row_gap='12px', col_gap='12px', row_min_height='0px', col_min_width='0px'), controls=[Filter(id='b4862b21-fb97-d435-8856-1712e8e5216a', type='filter', column='species', targets=['scatter_chart', 'hist_chart'], selector=Dropdown(id='fcbd04c3-4021-2ef7-cca5-a5a19e4d6e3c', type='dropdown', options=['setosa', 'versicolor', 'virginica'], value=['ALL'], multi=True, title='Species', actions=[ActionsChain(id='a3f2c9bf-9c63-16b9-50f2-44556f25e2a2', trigger=Trigger(component_id='fcbd04c3-4021-2ef7-cca5-a5a19e4d6e3c', component_property='value'), actions=[Action(id='filter_action_b4862b21-fb97-d435-8856-1712e8e5216a', function=<vizro.models.types.CapturedCallable object at 0x7fe6919bd700>, inputs=[], outputs=[])])]))], path='/my-first-dashboard', actions=[ActionsChain(id='on_page_load_action_My first dashboard', trigger=Trigger(component_id='on_page_load_action_trigger_My first dashboard', component_property='data'), actions=[Action(id='on_page_load_action_action_My first dashboard', function=<vizro.models.types.CapturedCallable object at 0x7fe6927f2c10>, inputs=[], outputs=[])])])>,\n",
       "               'supplied_image': None,\n",
       "               'image': None,\n",
       "               'image_url': None,\n",
       "               'redirect_from': None,\n",
       "               'layout': <bound method Page.build of Page(id='My first dashboard', components=[Graph(id='scatter_chart', type='graph', figure=<vizro.models.types.CapturedCallable object at 0x7fe63802e280>, actions=[]), Graph(id='hist_chart', type='graph', figure=<vizro.models.types.CapturedCallable object at 0x7fe63802e1c0>, actions=[])], title='My first dashboard', layout=Layout(id='259f4329-e6f4-590b-9a16-4106cf6a659e', grid=[[0], [1]], row_gap='12px', col_gap='12px', row_min_height='0px', col_min_width='0px'), controls=[Filter(id='b4862b21-fb97-d435-8856-1712e8e5216a', type='filter', column='species', targets=['scatter_chart', 'hist_chart'], selector=Dropdown(id='fcbd04c3-4021-2ef7-cca5-a5a19e4d6e3c', type='dropdown', options=['setosa', 'versicolor', 'virginica'], value=['ALL'], multi=True, title='Species', actions=[ActionsChain(id='a3f2c9bf-9c63-16b9-50f2-44556f25e2a2', trigger=Trigger(component_id='fcbd04c3-4021-2ef7-cca5-a5a19e4d6e3c', component_property='value'), actions=[Action(id='filter_action_b4862b21-fb97-d435-8856-1712e8e5216a', function=<vizro.models.types.CapturedCallable object at 0x7fe6919bd700>, inputs=[], outputs=[])])]))], path='/my-first-dashboard', actions=[ActionsChain(id='on_page_load_action_My first dashboard', trigger=Trigger(component_id='on_page_load_action_trigger_My first dashboard', component_property='data'), actions=[Action(id='on_page_load_action_action_My first dashboard', function=<vizro.models.types.CapturedCallable object at 0x7fe6927f2c10>, inputs=[], outputs=[])])])>,\n",
       "               'relative_path': '/'}),\n",
       "             ('not_found_404',\n",
       "              {'module': 'not_found_404',\n",
       "               'supplied_path': None,\n",
       "               'path_template': None,\n",
       "               'path': '/not-found-404',\n",
       "               'supplied_name': None,\n",
       "               'name': 'Not found 404',\n",
       "               'supplied_title': None,\n",
       "               'title': 'Not found 404',\n",
       "               'description': '',\n",
       "               'order': None,\n",
       "               'supplied_order': None,\n",
       "               'supplied_layout': Div(children=[Img(src='vizro/images/errors/error_404.svg'), Div(children=[Div(children=[H3(children='This page could not be found.', className='heading-3-600'), P('Make sure the URL you entered is correct.')], className='error_text_container'), Button(children='Take me home', className='button_primary', href='/')], className='error_content_container')], className='page_error_container'),\n",
       "               'supplied_image': None,\n",
       "               'image': None,\n",
       "               'image_url': None,\n",
       "               'redirect_from': None,\n",
       "               'layout': Div(children=[Img(src='vizro/images/errors/error_404.svg'), Div(children=[Div(children=[H3(children='This page could not be found.', className='heading-3-600'), P('Make sure the URL you entered is correct.')], className='error_text_container'), Button(children='Take me home', className='button_primary', href='/')], className='error_content_container')], className='page_error_container'),\n",
       "               'relative_path': '/not-found-404'})])"
      ]
     },
     "execution_count": 9,
     "metadata": {},
     "output_type": "execute_result"
    },
    {
     "name": "stderr",
     "output_type": "stream",
     "text": [
      "ERROR:__main__:Exception on /_dash-update-component [POST]\n",
      "Traceback (most recent call last):\n",
      "  File \"/Users/Maximilian_Schulz/Library/Application Support/hatch/env/virtual/vizro/Xlhn8nc6/vizro/lib/python3.9/site-packages/flask/app.py\", line 2529, in wsgi_app\n",
      "    response = self.full_dispatch_request()\n",
      "  File \"/Users/Maximilian_Schulz/Library/Application Support/hatch/env/virtual/vizro/Xlhn8nc6/vizro/lib/python3.9/site-packages/flask/app.py\", line 1825, in full_dispatch_request\n",
      "    rv = self.handle_user_exception(e)\n",
      "  File \"/Users/Maximilian_Schulz/Library/Application Support/hatch/env/virtual/vizro/Xlhn8nc6/vizro/lib/python3.9/site-packages/flask/app.py\", line 1823, in full_dispatch_request\n",
      "    rv = self.dispatch_request()\n",
      "  File \"/Users/Maximilian_Schulz/Library/Application Support/hatch/env/virtual/vizro/Xlhn8nc6/vizro/lib/python3.9/site-packages/flask/app.py\", line 1799, in dispatch_request\n",
      "    return self.ensure_sync(self.view_functions[rule.endpoint])(**view_args)\n",
      "  File \"/Users/Maximilian_Schulz/Library/Application Support/hatch/env/virtual/vizro/Xlhn8nc6/vizro/lib/python3.9/site-packages/dash/dash.py\", line 1297, in dispatch\n",
      "    ctx.run(\n",
      "  File \"/Users/Maximilian_Schulz/Library/Application Support/hatch/env/virtual/vizro/Xlhn8nc6/vizro/lib/python3.9/site-packages/dash/_callback.py\", line 437, in add_context\n",
      "    output_value = func(*func_args, **func_kwargs)  # %% callback invoked %%\n",
      "  File \"/Users/Maximilian_Schulz/Library/CloudStorage/OneDrive-McKinsey&Company/Documents/Python/Vizro/vizro/vizro-core/src/vizro/models/_action/_action.py\", line 159, in callback_wrapper\n",
      "    return self._action_callback_function(**inputs)\n",
      "  File \"/Users/Maximilian_Schulz/Library/CloudStorage/OneDrive-McKinsey&Company/Documents/Python/Vizro/vizro/vizro-core/src/vizro/models/_action/_action.py\", line 116, in _action_callback_function\n",
      "    return_value = self.function(**inputs) or {}\n",
      "  File \"/Users/Maximilian_Schulz/Library/CloudStorage/OneDrive-McKinsey&Company/Documents/Python/Vizro/vizro/vizro-core/src/vizro/models/types.py\", line 59, in __call__\n",
      "    return self.__function(**bound_arguments.arguments)\n",
      "  File \"/Users/Maximilian_Schulz/Library/CloudStorage/OneDrive-McKinsey&Company/Documents/Python/Vizro/vizro/vizro-core/src/vizro/actions/_filter_action.py\", line 33, in _filter\n",
      "    return _get_modified_page_charts(\n",
      "  File \"/Users/Maximilian_Schulz/Library/CloudStorage/OneDrive-McKinsey&Company/Documents/Python/Vizro/vizro/vizro-core/src/vizro/actions/_actions_utils.py\", line 184, in _get_modified_page_charts\n",
      "    filtered_data = _get_filtered_data(\n",
      "  File \"/Users/Maximilian_Schulz/Library/CloudStorage/OneDrive-McKinsey&Company/Documents/Python/Vizro/vizro/vizro-core/src/vizro/actions/_actions_utils.py\", line 159, in _get_filtered_data\n",
      "    data_frame = _apply_filters(\n",
      "  File \"/Users/Maximilian_Schulz/Library/CloudStorage/OneDrive-McKinsey&Company/Documents/Python/Vizro/vizro/vizro-core/src/vizro/actions/_actions_utils.py\", line 55, in _apply_filters\n",
      "    selector_actions = _get_component_actions(model_manager[ctd[\"id\"]])\n",
      "  File \"/Users/Maximilian_Schulz/Library/CloudStorage/OneDrive-McKinsey&Company/Documents/Python/Vizro/vizro/vizro-core/src/vizro/managers/_model_manager.py\", line 42, in __getitem__\n",
      "    return self.__models[model_id]\n",
      "KeyError: 'e3e70682-c209-4cac-629f-6fbed82c07cd'\n",
      "ERROR:__main__:Exception on /_dash-update-component [POST]\n",
      "Traceback (most recent call last):\n",
      "  File \"/Users/Maximilian_Schulz/Library/Application Support/hatch/env/virtual/vizro/Xlhn8nc6/vizro/lib/python3.9/site-packages/flask/app.py\", line 2529, in wsgi_app\n",
      "    response = self.full_dispatch_request()\n",
      "  File \"/Users/Maximilian_Schulz/Library/Application Support/hatch/env/virtual/vizro/Xlhn8nc6/vizro/lib/python3.9/site-packages/flask/app.py\", line 1825, in full_dispatch_request\n",
      "    rv = self.handle_user_exception(e)\n",
      "  File \"/Users/Maximilian_Schulz/Library/Application Support/hatch/env/virtual/vizro/Xlhn8nc6/vizro/lib/python3.9/site-packages/flask/app.py\", line 1823, in full_dispatch_request\n",
      "    rv = self.dispatch_request()\n",
      "  File \"/Users/Maximilian_Schulz/Library/Application Support/hatch/env/virtual/vizro/Xlhn8nc6/vizro/lib/python3.9/site-packages/flask/app.py\", line 1799, in dispatch_request\n",
      "    return self.ensure_sync(self.view_functions[rule.endpoint])(**view_args)\n",
      "  File \"/Users/Maximilian_Schulz/Library/Application Support/hatch/env/virtual/vizro/Xlhn8nc6/vizro/lib/python3.9/site-packages/dash/dash.py\", line 1297, in dispatch\n",
      "    ctx.run(\n",
      "  File \"/Users/Maximilian_Schulz/Library/Application Support/hatch/env/virtual/vizro/Xlhn8nc6/vizro/lib/python3.9/site-packages/dash/_callback.py\", line 437, in add_context\n",
      "    output_value = func(*func_args, **func_kwargs)  # %% callback invoked %%\n",
      "  File \"/Users/Maximilian_Schulz/Library/CloudStorage/OneDrive-McKinsey&Company/Documents/Python/Vizro/vizro/vizro-core/src/vizro/models/_action/_action.py\", line 159, in callback_wrapper\n",
      "    return self._action_callback_function(**inputs)\n",
      "  File \"/Users/Maximilian_Schulz/Library/CloudStorage/OneDrive-McKinsey&Company/Documents/Python/Vizro/vizro/vizro-core/src/vizro/models/_action/_action.py\", line 116, in _action_callback_function\n",
      "    return_value = self.function(**inputs) or {}\n",
      "  File \"/Users/Maximilian_Schulz/Library/CloudStorage/OneDrive-McKinsey&Company/Documents/Python/Vizro/vizro/vizro-core/src/vizro/models/types.py\", line 59, in __call__\n",
      "    return self.__function(**bound_arguments.arguments)\n",
      "  File \"/Users/Maximilian_Schulz/Library/CloudStorage/OneDrive-McKinsey&Company/Documents/Python/Vizro/vizro/vizro-core/src/vizro/actions/_filter_action.py\", line 33, in _filter\n",
      "    return _get_modified_page_charts(\n",
      "  File \"/Users/Maximilian_Schulz/Library/CloudStorage/OneDrive-McKinsey&Company/Documents/Python/Vizro/vizro/vizro-core/src/vizro/actions/_actions_utils.py\", line 184, in _get_modified_page_charts\n",
      "    filtered_data = _get_filtered_data(\n",
      "  File \"/Users/Maximilian_Schulz/Library/CloudStorage/OneDrive-McKinsey&Company/Documents/Python/Vizro/vizro/vizro-core/src/vizro/actions/_actions_utils.py\", line 159, in _get_filtered_data\n",
      "    data_frame = _apply_filters(\n",
      "  File \"/Users/Maximilian_Schulz/Library/CloudStorage/OneDrive-McKinsey&Company/Documents/Python/Vizro/vizro/vizro-core/src/vizro/actions/_actions_utils.py\", line 55, in _apply_filters\n",
      "    selector_actions = _get_component_actions(model_manager[ctd[\"id\"]])\n",
      "  File \"/Users/Maximilian_Schulz/Library/CloudStorage/OneDrive-McKinsey&Company/Documents/Python/Vizro/vizro/vizro-core/src/vizro/managers/_model_manager.py\", line 42, in __getitem__\n",
      "    return self.__models[model_id]\n",
      "KeyError: 'e3e70682-c209-4cac-629f-6fbed82c07cd'\n",
      "ERROR:__main__:Exception on /_dash-update-component [POST]\n",
      "Traceback (most recent call last):\n",
      "  File \"/Users/Maximilian_Schulz/Library/Application Support/hatch/env/virtual/vizro/Xlhn8nc6/vizro/lib/python3.9/site-packages/flask/app.py\", line 2529, in wsgi_app\n",
      "    response = self.full_dispatch_request()\n",
      "  File \"/Users/Maximilian_Schulz/Library/Application Support/hatch/env/virtual/vizro/Xlhn8nc6/vizro/lib/python3.9/site-packages/flask/app.py\", line 1825, in full_dispatch_request\n",
      "    rv = self.handle_user_exception(e)\n",
      "  File \"/Users/Maximilian_Schulz/Library/Application Support/hatch/env/virtual/vizro/Xlhn8nc6/vizro/lib/python3.9/site-packages/flask/app.py\", line 1823, in full_dispatch_request\n",
      "    rv = self.dispatch_request()\n",
      "  File \"/Users/Maximilian_Schulz/Library/Application Support/hatch/env/virtual/vizro/Xlhn8nc6/vizro/lib/python3.9/site-packages/flask/app.py\", line 1799, in dispatch_request\n",
      "    return self.ensure_sync(self.view_functions[rule.endpoint])(**view_args)\n",
      "  File \"/Users/Maximilian_Schulz/Library/Application Support/hatch/env/virtual/vizro/Xlhn8nc6/vizro/lib/python3.9/site-packages/dash/dash.py\", line 1297, in dispatch\n",
      "    ctx.run(\n",
      "  File \"/Users/Maximilian_Schulz/Library/Application Support/hatch/env/virtual/vizro/Xlhn8nc6/vizro/lib/python3.9/site-packages/dash/_callback.py\", line 437, in add_context\n",
      "    output_value = func(*func_args, **func_kwargs)  # %% callback invoked %%\n",
      "  File \"/Users/Maximilian_Schulz/Library/CloudStorage/OneDrive-McKinsey&Company/Documents/Python/Vizro/vizro/vizro-core/src/vizro/models/_action/_action.py\", line 159, in callback_wrapper\n",
      "    return self._action_callback_function(**inputs)\n",
      "  File \"/Users/Maximilian_Schulz/Library/CloudStorage/OneDrive-McKinsey&Company/Documents/Python/Vizro/vizro/vizro-core/src/vizro/models/_action/_action.py\", line 116, in _action_callback_function\n",
      "    return_value = self.function(**inputs) or {}\n",
      "  File \"/Users/Maximilian_Schulz/Library/CloudStorage/OneDrive-McKinsey&Company/Documents/Python/Vizro/vizro/vizro-core/src/vizro/models/types.py\", line 59, in __call__\n",
      "    return self.__function(**bound_arguments.arguments)\n",
      "  File \"/Users/Maximilian_Schulz/Library/CloudStorage/OneDrive-McKinsey&Company/Documents/Python/Vizro/vizro/vizro-core/src/vizro/actions/_filter_action.py\", line 33, in _filter\n",
      "    return _get_modified_page_charts(\n",
      "  File \"/Users/Maximilian_Schulz/Library/CloudStorage/OneDrive-McKinsey&Company/Documents/Python/Vizro/vizro/vizro-core/src/vizro/actions/_actions_utils.py\", line 184, in _get_modified_page_charts\n",
      "    filtered_data = _get_filtered_data(\n",
      "  File \"/Users/Maximilian_Schulz/Library/CloudStorage/OneDrive-McKinsey&Company/Documents/Python/Vizro/vizro/vizro-core/src/vizro/actions/_actions_utils.py\", line 159, in _get_filtered_data\n",
      "    data_frame = _apply_filters(\n",
      "  File \"/Users/Maximilian_Schulz/Library/CloudStorage/OneDrive-McKinsey&Company/Documents/Python/Vizro/vizro/vizro-core/src/vizro/actions/_actions_utils.py\", line 55, in _apply_filters\n",
      "    selector_actions = _get_component_actions(model_manager[ctd[\"id\"]])\n",
      "  File \"/Users/Maximilian_Schulz/Library/CloudStorage/OneDrive-McKinsey&Company/Documents/Python/Vizro/vizro/vizro-core/src/vizro/managers/_model_manager.py\", line 42, in __getitem__\n",
      "    return self.__models[model_id]\n",
      "KeyError: 'e3e70682-c209-4cac-629f-6fbed82c07cd'\n"
     ]
    }
   ],
   "source": [
    "dash.page_registry"
   ]
  },
  {
   "cell_type": "code",
   "execution_count": null,
   "metadata": {},
   "outputs": [],
   "source": []
  }
 ],
 "metadata": {
  "kernelspec": {
   "display_name": "Python 3 (ipykernel)",
   "language": "python",
   "name": "python3"
  },
  "language_info": {
   "codemirror_mode": {
    "name": "ipython",
    "version": 3
   },
   "file_extension": ".py",
   "mimetype": "text/x-python",
   "name": "python",
   "nbconvert_exporter": "python",
   "pygments_lexer": "ipython3",
   "version": "3.9.12"
  }
 },
 "nbformat": 4,
 "nbformat_minor": 4
}
